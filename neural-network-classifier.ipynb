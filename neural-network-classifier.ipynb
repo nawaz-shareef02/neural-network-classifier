{
 "cells": [
  {
   "cell_type": "markdown",
   "id": "2d712adb-9b78-4db1-9664-ca046c909b76",
   "metadata": {},
   "source": [
    "## Project – Neural Network for Image Recognition of Letters A, B, and C"
   ]
  },
  {
   "cell_type": "markdown",
   "id": "2b79d4cd-8c25-42d7-850e-cad4475e3923",
   "metadata": {},
   "source": [
    "## AIM:Build and train a 2-layer feedforward neural network (with one hidden layer, sigmoid activation) to recognize binary pixel representations of letters A, B, and C."
   ]
  },
  {
   "cell_type": "markdown",
   "id": "8c087069-907f-42ce-bd40-355dd470ef0c",
   "metadata": {},
   "source": [
    "## Step1: import and setup"
   ]
  },
  {
   "cell_type": "code",
   "execution_count": 2,
   "id": "f6fb0847-c937-4c06-b2a9-4d107d1c2a40",
   "metadata": {},
   "outputs": [],
   "source": [
    "import numpy as np\n",
    "import matplotlib.pyplot as plt\n"
   ]
  },
  {
   "cell_type": "markdown",
   "id": "c8ebb6b4-f945-4a85-916d-620fec848824",
   "metadata": {},
   "source": [
    "## Step2:Define Binary Patterns for A, B, and C"
   ]
  },
  {
   "cell_type": "code",
   "execution_count": null,
   "id": "d71f7f35-33a9-4e02-9d95-e23ef6f8e1b7",
   "metadata": {},
   "outputs": [],
   "source": [
    "#Each image is a 5×6 (rows × columns) grid flattened into a 30-element vector."
   ]
  },
  {
   "cell_type": "code",
   "execution_count": 3,
   "id": "0e84c6a5-ccf2-4a6b-b5aa-b66dada49f48",
   "metadata": {},
   "outputs": [],
   "source": [
    "def create_letter_A():\n",
    "    return np.array([\n",
    "        [0,1,1,1,0],\n",
    "        [1,0,0,0,1],\n",
    "        [1,1,1,1,1],\n",
    "        [1,0,0,0,1],\n",
    "        [1,0,0,0,1],\n",
    "        [1,0,0,0,1]\n",
    "    ]).reshape(-1, 1)\n",
    "\n",
    "def create_letter_B():\n",
    "    return np.array([\n",
    "        [1,1,1,1,0],\n",
    "        [1,0,0,0,1],\n",
    "        [1,1,1,1,0],\n",
    "        [1,0,0,0,1],\n",
    "        [1,0,0,0,1],\n",
    "        [1,1,1,1,0]\n",
    "    ]).reshape(-1, 1)\n",
    "\n",
    "def create_letter_C():\n",
    "    return np.array([\n",
    "        [0,1,1,1,1],\n",
    "        [1,0,0,0,0],\n",
    "        [1,0,0,0,0],\n",
    "        [1,0,0,0,0],\n",
    "        [1,0,0,0,0],\n",
    "        [0,1,1,1,1]\n",
    "    ]).reshape(-1, 1)\n"
   ]
  },
  {
   "cell_type": "markdown",
   "id": "e693c858-5d92-41dc-a644-5b25372a090d",
   "metadata": {},
   "source": [
    "## Step3: Prepare data"
   ]
  },
  {
   "cell_type": "code",
   "execution_count": null,
   "id": "2a1c4456-4331-46d1-a8b4-c44051c9b6f7",
   "metadata": {},
   "outputs": [],
   "source": [
    "Features(X) and Labels(Y)"
   ]
  },
  {
   "cell_type": "code",
   "execution_count": 5,
   "id": "a6c4c6aa-5875-48f9-9d49-73b1d722893c",
   "metadata": {},
   "outputs": [],
   "source": [
    "X = np.hstack([create_letter_A(), create_letter_B(), create_letter_C()])  # shape: (30, 3)\n",
    "y = np.array([\n",
    "    [1, 0, 0],  # A\n",
    "    [0, 1, 0],  # B\n",
    "    [0, 0, 1]   # C\n",
    "]).T  # shape: (3, 3)\n",
    "\n"
   ]
  },
  {
   "cell_type": "markdown",
   "id": "5cecc586-ffc6-4897-9020-ae32455bc71b",
   "metadata": {},
   "source": [
    "## Neural Network Functions"
   ]
  },
  {
   "cell_type": "code",
   "execution_count": null,
   "id": "e2b2f6a7-e4a4-49d4-bdf9-3c9adf26edf0",
   "metadata": {},
   "outputs": [],
   "source": [
    "#Initialization"
   ]
  },
  {
   "cell_type": "code",
   "execution_count": 7,
   "id": "d10c6700-fe19-4653-a46e-5463b9aba985",
   "metadata": {},
   "outputs": [],
   "source": [
    "def initialize_parameters(input_size, hidden_size, output_size):\n",
    "    W1 = np.random.randn(hidden_size, input_size) * 0.01\n",
    "    b1 = np.zeros((hidden_size, 1))\n",
    "    W2 = np.random.randn(output_size, hidden_size) * 0.01\n",
    "    b2 = np.zeros((output_size, 1))\n",
    "    return W1, b1, W2, b2\n"
   ]
  },
  {
   "cell_type": "code",
   "execution_count": null,
   "id": "ffd0ff34-f036-441b-9c0a-2c143ec22a6f",
   "metadata": {},
   "outputs": [],
   "source": [
    "# Activating functions"
   ]
  },
  {
   "cell_type": "code",
   "execution_count": 8,
   "id": "c6b1860c-67f4-4316-9b4e-7556afceb1f7",
   "metadata": {},
   "outputs": [],
   "source": [
    "def sigmoid(z):\n",
    "    return 1 / (1 + np.exp(-z))\n",
    "\n",
    "def sigmoid_derivative(a):\n",
    "    return a * (1 - a)\n"
   ]
  },
  {
   "cell_type": "code",
   "execution_count": null,
   "id": "681ea9bf-3f9b-4293-8d83-8a90544926d8",
   "metadata": {},
   "outputs": [],
   "source": [
    "# Forward propogation"
   ]
  },
  {
   "cell_type": "code",
   "execution_count": 9,
   "id": "dfcb9e95-7a10-4760-ad9e-e76157c0ff5e",
   "metadata": {},
   "outputs": [],
   "source": [
    "def forward(X, W1, b1, W2, b2):\n",
    "    Z1 = np.dot(W1, X) + b1\n",
    "    A1 = sigmoid(Z1)\n",
    "    Z2 = np.dot(W2, A1) + b2\n",
    "    A2 = sigmoid(Z2)\n",
    "    return A1, A2\n"
   ]
  },
  {
   "cell_type": "markdown",
   "id": "b359ec24-ac17-4bac-88e4-49c2ca973a72",
   "metadata": {},
   "source": [
    "## Backward Propagation"
   ]
  },
  {
   "cell_type": "code",
   "execution_count": 10,
   "id": "5d298ff3-ba2e-4961-bccb-19b0791e97f5",
   "metadata": {},
   "outputs": [],
   "source": [
    "def compute_loss(y_true, y_pred):\n",
    "    return np.mean((y_true - y_pred) ** 2)\n",
    "\n",
    "def backward(X, y, A1, A2, W2):\n",
    "    m = X.shape[1]\n",
    "    dZ2 = (A2 - y) * sigmoid_derivative(A2)\n",
    "    dW2 = np.dot(dZ2, A1.T) / m\n",
    "    db2 = np.sum(dZ2, axis=1, keepdims=True) / m\n",
    "\n",
    "    dZ1 = np.dot(W2.T, dZ2) * sigmoid_derivative(A1)\n",
    "    dW1 = np.dot(dZ1, X.T) / m\n",
    "    db1 = np.sum(dZ1, axis=1, keepdims=True) / m\n",
    "\n",
    "    return dW1, db1, dW2, db2\n"
   ]
  },
  {
   "cell_type": "markdown",
   "id": "31859d44-4c57-45ab-9a7a-ee270e2835a4",
   "metadata": {},
   "source": [
    "## Training Loop"
   ]
  },
  {
   "cell_type": "code",
   "execution_count": 12,
   "id": "2b3466d1-5b47-44eb-8e99-120328ebbe8b",
   "metadata": {},
   "outputs": [],
   "source": [
    "def train(X, y, hidden_size=10, epochs=10000, lr=0.5):\n",
    "    input_size = X.shape[0]\n",
    "    output_size = y.shape[0]\n",
    "\n",
    "    W1, b1, W2, b2 = initialize_parameters(input_size, hidden_size, output_size)\n",
    "\n",
    "    losses = []\n",
    "    for epoch in range(epochs):\n",
    "        A1, A2 = forward(X, W1, b1, W2, b2)\n",
    "        loss = compute_loss(y, A2)\n",
    "        losses.append(loss)\n",
    "\n",
    "        dW1, db1, dW2, db2 = backward(X, y, A1, A2, W2)\n",
    "\n",
    "        W1 -= lr * dW1\n",
    "        b1 -= lr * db1\n",
    "        W2 -= lr * dW2\n",
    "        b2 -= lr * db2\n",
    "\n",
    "        if epoch % 1000 == 0:\n",
    "            print(f\"Epoch {epoch}, Loss: {loss:.4f}\")\n",
    "\n",
    "    return W1, b1, W2, b2, losses\n"
   ]
  },
  {
   "cell_type": "markdown",
   "id": "60312439-d4c9-4312-9f6c-392cdc980581",
   "metadata": {},
   "source": [
    "## Plot Training Loss"
   ]
  },
  {
   "cell_type": "code",
   "execution_count": 13,
   "id": "b5f04a5f-af7b-47c2-be9d-cc03a0110129",
   "metadata": {},
   "outputs": [
    {
     "name": "stdout",
     "output_type": "stream",
     "text": [
      "Epoch 0, Loss: 0.2518\n",
      "Epoch 1000, Loss: 0.0021\n",
      "Epoch 2000, Loss: 0.0008\n",
      "Epoch 3000, Loss: 0.0005\n",
      "Epoch 4000, Loss: 0.0003\n",
      "Epoch 5000, Loss: 0.0003\n",
      "Epoch 6000, Loss: 0.0002\n",
      "Epoch 7000, Loss: 0.0002\n",
      "Epoch 8000, Loss: 0.0001\n",
      "Epoch 9000, Loss: 0.0001\n"
     ]
    },
    {
     "data": {
      "image/png": "[encoded data removed]",
      "text/plain": [
       "<Figure size 640x480 with 1 Axes>"
      ]
     },
     "metadata": {},
     "output_type": "display_data"
    }
   ],
   "source": [
    "W1, b1, W2, b2, losses = train(X, y)\n",
    "\n",
    "plt.plot(losses)\n",
    "plt.title(\"Loss over Epochs\")\n",
    "plt.xlabel(\"Epochs\")\n",
    "plt.ylabel(\"Loss\")\n",
    "plt.grid()\n",
    "plt.show()\n"
   ]
  },
  {
   "cell_type": "markdown",
   "id": "89efa2d3-b929-473d-b73f-d9976da1ac62",
   "metadata": {},
   "source": [
    "## Testing the Model"
   ]
  },
  {
   "cell_type": "code",
   "execution_count": 14,
   "id": "91a5f0db-9674-4933-b1f8-07d3db803df4",
   "metadata": {},
   "outputs": [
    {
     "name": "stdout",
     "output_type": "stream",
     "text": [
      "True: A, Predicted: A\n"
     ]
    },
    {
     "data": {
      "image/png": "[encoded data removed]",
      "text/plain": [
       "<Figure size 640x480 with 1 Axes>"
      ]
     },
     "metadata": {},
     "output_type": "display_data"
    },
    {
     "name": "stdout",
     "output_type": "stream",
     "text": [
      "True: B, Predicted: B\n"
     ]
    },
    {
     "data": {
      "image/png": "[encoded data removed]",
      "text/plain": [
       "<Figure size 640x480 with 1 Axes>"
      ]
     },
     "metadata": {},
     "output_type": "display_data"
    },
    {
     "name": "stdout",
     "output_type": "stream",
     "text": [
      "True: C, Predicted: C\n"
     ]
    },
    {
     "data": {
      "image/png": "[encoded data removed]",
      "text/plain": [
       "<Figure size 640x480 with 1 Axes>"
      ]
     },
     "metadata": {},
     "output_type": "display_data"
    }
   ],
   "source": [
    "def predict(X_input, W1, b1, W2, b2):\n",
    "    _, A2 = forward(X_input, W1, b1, W2, b2)\n",
    "    return np.argmax(A2, axis=0)\n",
    "\n",
    "# Test on input images\n",
    "for i, letter in enumerate([\"A\", \"B\", \"C\"]):\n",
    "    img = X[:, i].reshape(30, 1)\n",
    "    pred = predict(img, W1, b1, W2, b2)\n",
    "    print(f\"True: {letter}, Predicted: {['A','B','C'][pred[0]]}\")\n",
    "    plt.imshow(img.reshape(6,5), cmap='gray')\n",
    "    plt.title(f\"Predicted: {['A','B','C'][pred[0]]}\")\n",
    "    plt.show()\n"
   ]
  },
  {
   "cell_type": "code",
   "execution_count": null,
   "id": "3c47761a-648f-4ec1-99c7-43b0b9c9079d",
   "metadata": {},
   "outputs": [],
   "source": []
  }
 ],
 "metadata": {
  "kernelspec": {
   "display_name": "Python 3 (ipykernel)",
   "language": "python",
   "name": "python3"
  },
  "language_info": {
   "codemirror_mode": {
    "name": "ipython",
    "version": 3
   },
   "file_extension": ".py",
   "mimetype": "text/x-python",
   "name": "python",
   "nbconvert_exporter": "python",
   "pygments_lexer": "ipython3",
   "version": "3.13.3"
  }
 },
 "nbformat": 4,
 "nbformat_minor": 5
}
